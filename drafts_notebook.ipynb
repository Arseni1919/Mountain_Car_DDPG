{
 "cells": [
  {
   "cell_type": "code",
   "execution_count": 2,
   "metadata": {
    "collapsed": true
   },
   "outputs": [
    {
     "name": "stdout",
     "output_type": "stream",
     "text": [
      "\u001B[32m~[INFO]: ALGPlotter instance created.\u001B[0m\n"
     ]
    },
    {
     "data": {
      "text/plain": "<Figure size 864x432 with 4 Axes>",
      "image/png": "[encoded data removed]"
     },
     "metadata": {
      "needs_background": "light"
     },
     "output_type": "display_data"
    }
   ],
   "source": [
    "import torch\n",
    "\n",
    "from GLOBALS import *\n",
    "from alg_plotter import plotter\n",
    "from alg_env_wrapper import env\n",
    "from alg_nets import *\n",
    "from alg_replay_buffer import ReplayBuffer\n",
    "from play import play"
   ]
  },
  {
   "cell_type": "code",
   "execution_count": 202,
   "outputs": [],
   "source": [
    "critic = CriticNet(obs_size=env.observation_size(), n_actions=env.action_size(), n_agents=1)\n",
    "target_critic = CriticNet(obs_size=env.observation_size(), n_actions=env.action_size(), n_agents=1)\n",
    "# target_critic.load_state_dict(critic.state_dict())"
   ],
   "metadata": {
    "collapsed": false,
    "pycharm": {
     "name": "#%%\n"
    }
   }
  },
  {
   "cell_type": "markdown",
   "source": [
    "Entropy"
   ],
   "metadata": {
    "collapsed": false
   }
  },
  {
   "cell_type": "code",
   "execution_count": 203,
   "outputs": [],
   "source": [
    "from scipy.stats import entropy"
   ],
   "metadata": {
    "collapsed": false,
    "pycharm": {
     "name": "#%%\n"
    }
   }
  },
  {
   "cell_type": "code",
   "execution_count": 204,
   "outputs": [],
   "source": [
    "list_of_params = list(critic.parameters())\n",
    "list_of_target_params = list(target_critic.parameters())"
   ],
   "metadata": {
    "collapsed": false,
    "pycharm": {
     "name": "#%%\n"
    }
   }
  },
  {
   "cell_type": "code",
   "execution_count": 205,
   "outputs": [
    {
     "data": {
      "text/plain": "inf"
     },
     "execution_count": 205,
     "metadata": {},
     "output_type": "execute_result"
    }
   ],
   "source": [
    "entropy(list_of_params[0][0].detach().numpy(), list_of_target_params[0][0].detach().numpy())"
   ],
   "metadata": {
    "collapsed": false,
    "pycharm": {
     "name": "#%%\n"
    }
   }
  },
  {
   "cell_type": "code",
   "execution_count": 230,
   "outputs": [
    {
     "data": {
      "text/plain": "(256,)"
     },
     "execution_count": 230,
     "metadata": {},
     "output_type": "execute_result"
    }
   ],
   "source": [
    "a = list_of_params[2][3].softmax(dim=0).detach().numpy()\n",
    "a.shape"
   ],
   "metadata": {
    "collapsed": false,
    "pycharm": {
     "name": "#%%\n"
    }
   }
  },
  {
   "cell_type": "code",
   "execution_count": 231,
   "outputs": [
    {
     "data": {
      "text/plain": "array([0.00394017, 0.00381952, 0.00372287, 0.00385827, 0.00399872,\n       0.00410866, 0.0038972 , 0.00385002, 0.00373159, 0.00398387,\n       0.00411541, 0.00376812, 0.00379492, 0.00412134, 0.00409581,\n       0.00370561, 0.00411102, 0.00368964, 0.0037239 , 0.00409728,\n       0.00406275, 0.00366132, 0.00398391, 0.00386641, 0.0038995 ,\n       0.00397711, 0.00400582, 0.00408799, 0.0037787 , 0.00404046,\n       0.00387154, 0.00399261, 0.00371998, 0.00367661, 0.0036767 ,\n       0.00399973, 0.00396752, 0.00378041, 0.00374877, 0.00368744,\n       0.00397179, 0.00381471, 0.00394486, 0.00379528, 0.00400946,\n       0.00392658, 0.00412521, 0.00367081, 0.00393088, 0.00414277,\n       0.00409211, 0.0038659 , 0.00382923, 0.0037614 , 0.0039377 ,\n       0.00367865, 0.00394213, 0.00394284, 0.00398181, 0.00374146,\n       0.00366315, 0.00407567, 0.00399736, 0.00410405, 0.00393536,\n       0.00393305, 0.00407434, 0.00398339, 0.00366927, 0.00380705,\n       0.00407224, 0.00405507, 0.0038287 , 0.0037422 , 0.00383974,\n       0.00373872, 0.00401391, 0.00385437, 0.00385415, 0.00386464,\n       0.00386333, 0.00387908, 0.00378224, 0.00377288, 0.00375591,\n       0.00402372, 0.00388423, 0.00367131, 0.00413637, 0.00368388,\n       0.00388451, 0.0036809 , 0.00413841, 0.00393443, 0.00411716,\n       0.0039214 , 0.00393171, 0.00408691, 0.00407114, 0.00382481,\n       0.00383262, 0.00413104, 0.00392349, 0.00407104, 0.00387064,\n       0.00405448, 0.00413097, 0.00396233, 0.00392821, 0.0038259 ,\n       0.00393788, 0.0037957 , 0.00398193, 0.00399695, 0.00398598,\n       0.00384975, 0.00382761, 0.0036905 , 0.00387894, 0.00376051,\n       0.00388598, 0.00412332, 0.00381672, 0.00409498, 0.00391046,\n       0.00398689, 0.00374055, 0.00372693, 0.00369569, 0.00380227,\n       0.00377537, 0.00387866, 0.00403569, 0.00402527, 0.00406878,\n       0.0040471 , 0.00396296, 0.00390712, 0.00392726, 0.00404196,\n       0.00371434, 0.00399906, 0.0036963 , 0.00407319, 0.00393094,\n       0.00408847, 0.0039558 , 0.00375363, 0.00379049, 0.00374833,\n       0.00372407, 0.00389083, 0.00370097, 0.00387396, 0.0041431 ,\n       0.00391489, 0.00394194, 0.00393031, 0.0037827 , 0.00401292,\n       0.00402703, 0.00390903, 0.00393062, 0.00397328, 0.00413296,\n       0.00375569, 0.00376833, 0.00407675, 0.00393297, 0.00401777,\n       0.00376173, 0.0038062 , 0.00400567, 0.00403868, 0.00370846,\n       0.0039346 , 0.0036995 , 0.00409423, 0.00412606, 0.00405683,\n       0.00376074, 0.003716  , 0.00391009, 0.00373521, 0.00407374,\n       0.00376542, 0.00377295, 0.00398453, 0.0039926 , 0.00397805,\n       0.00388669, 0.00392684, 0.00369379, 0.00413716, 0.00395828,\n       0.00397556, 0.00408107, 0.00409188, 0.0036862 , 0.00397453,\n       0.00408367, 0.00385117, 0.00397537, 0.00395333, 0.00396665,\n       0.00374714, 0.00375741, 0.00405724, 0.0040058 , 0.00369159,\n       0.00368339, 0.00401702, 0.00370482, 0.00368459, 0.00399513,\n       0.00404159, 0.00377124, 0.00389318, 0.00367469, 0.00393819,\n       0.00407098, 0.00401094, 0.00393492, 0.00396622, 0.0040978 ,\n       0.00375735, 0.00392647, 0.00408536, 0.00383756, 0.00409393,\n       0.00378815, 0.00370691, 0.00413255, 0.00403816, 0.004049  ,\n       0.00370424, 0.003686  , 0.00374351, 0.00378824, 0.00408934,\n       0.0040737 , 0.00368889, 0.00410819, 0.00382495, 0.00399584,\n       0.00403543, 0.00403493, 0.00402592, 0.00400135, 0.00367079,\n       0.00370998, 0.00377047, 0.00372429, 0.00401013, 0.00394802,\n       0.00408627], dtype=float32)"
     },
     "execution_count": 231,
     "metadata": {},
     "output_type": "execute_result"
    }
   ],
   "source": [
    "b = list_of_target_params[2][3].softmax(dim=0).detach().numpy()\n",
    "b"
   ],
   "metadata": {
    "collapsed": false,
    "pycharm": {
     "name": "#%%\n"
    }
   }
  },
  {
   "cell_type": "code",
   "execution_count": 232,
   "outputs": [],
   "source": [
    "from math import log"
   ],
   "metadata": {
    "collapsed": false,
    "pycharm": {
     "name": "#%%\n"
    }
   }
  },
  {
   "cell_type": "code",
   "execution_count": 233,
   "outputs": [],
   "source": [
    "\"\"\"\n",
    "# H(P, Q) = H(P) + KL(P || Q)\n",
    "# Where H(P, Q) is the cross-entropy of Q from P,\n",
    "# H(P) is the entropy of P and\n",
    "# KL(P || Q) is the divergence of Q from P.\n",
    "\"\"\"\n",
    "\n",
    "# calculate entropy H(P)\n",
    "def entropy(p):\n",
    "\treturn -sum([p[i] * log(p[i]) for i in range(len(p))])\n",
    "# calculate cross entropy\n",
    "def cross_entropy(p, q):\n",
    "\treturn -sum(pp * log(qq) for pp, qq in zip(p, q))\n",
    "# calculate the kl divergence KL(P || Q)\n",
    "def kl_divergence(p, q):\n",
    "\treturn sum(p[i] * log(p[i]/q[i]) for i in range(len(p)))"
   ],
   "metadata": {
    "collapsed": false,
    "pycharm": {
     "name": "#%%\n"
    }
   }
  },
  {
   "cell_type": "code",
   "execution_count": 234,
   "outputs": [
    {
     "data": {
      "text/plain": "0.0012673328184329457"
     },
     "execution_count": 234,
     "metadata": {},
     "output_type": "execute_result"
    }
   ],
   "source": [
    "kl_divergence(a,b)"
   ],
   "metadata": {
    "collapsed": false,
    "pycharm": {
     "name": "#%%\n"
    }
   }
  },
  {
   "cell_type": "code",
   "execution_count": 235,
   "outputs": [
    {
     "data": {
      "text/plain": "5.54579295517627"
     },
     "execution_count": 235,
     "metadata": {},
     "output_type": "execute_result"
    }
   ],
   "source": [
    "cross_entropy(a,b)"
   ],
   "metadata": {
    "collapsed": false,
    "pycharm": {
     "name": "#%%\n"
    }
   }
  },
  {
   "cell_type": "code",
   "execution_count": 236,
   "outputs": [
    {
     "data": {
      "text/plain": "5.544525619938485"
     },
     "execution_count": 236,
     "metadata": {},
     "output_type": "execute_result"
    }
   ],
   "source": [
    "entropy(a)"
   ],
   "metadata": {
    "collapsed": false,
    "pycharm": {
     "name": "#%%\n"
    }
   }
  },
  {
   "cell_type": "code",
   "execution_count": 237,
   "outputs": [
    {
     "data": {
      "text/plain": "5.545792952756917"
     },
     "execution_count": 237,
     "metadata": {},
     "output_type": "execute_result"
    }
   ],
   "source": [
    "entropy(a) + kl_divergence(a,b)\n"
   ],
   "metadata": {
    "collapsed": false,
    "pycharm": {
     "name": "#%%\n"
    }
   }
  },
  {
   "cell_type": "code",
   "execution_count": null,
   "outputs": [],
   "source": [],
   "metadata": {
    "collapsed": false,
    "pycharm": {
     "name": "#%%\n"
    }
   }
  }
 ],
 "metadata": {
  "kernelspec": {
   "display_name": "Python 3",
   "language": "python",
   "name": "python3"
  },
  "language_info": {
   "codemirror_mode": {
    "name": "ipython",
    "version": 2
   },
   "file_extension": ".py",
   "mimetype": "text/x-python",
   "name": "python",
   "nbconvert_exporter": "python",
   "pygments_lexer": "ipython2",
   "version": "2.7.6"
  }
 },
 "nbformat": 4,
 "nbformat_minor": 0
}