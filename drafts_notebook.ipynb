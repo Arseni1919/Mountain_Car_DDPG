{
 "cells": [
  {
   "cell_type": "code",
   "execution_count": 2,
   "metadata": {
    "collapsed": true
   },
   "outputs": [
    {
     "name": "stdout",
     "output_type": "stream",
     "text": [
      "\u001B[32m~[INFO]: ALGPlotter instance created.\u001B[0m\n"
     ]
    },
    {
     "data": {
      "text/plain": "<Figure size 864x432 with 4 Axes>",
      "image/png": "[encoded data removed]"
     },
     "metadata": {
      "needs_background": "light"
     },
     "output_type": "display_data"
    }
   ],
   "source": [
    "import torch\n",
    "\n",
    "from GLOBALS import *\n",
    "from alg_plotter import plotter\n",
    "from alg_env_wrapper import env\n",
    "from alg_nets import *\n",
    "from alg_replay_buffer import ReplayBuffer\n",
    "from play import play"
   ]
  },
  {
   "cell_type": "code",
   "execution_count": 202,
   "outputs": [],
   "source": [
    "critic = CriticNet(obs_size=env.observation_size(), n_actions=env.action_size(), n_agents=1)\n",
    "target_critic = CriticNet(obs_size=env.observation_size(), n_actions=env.action_size(), n_agents=1)\n",
    "# target_critic.load_state_dict(critic.state_dict())"
   ],
   "metadata": {
    "collapsed": false,
    "pycharm": {
     "name": "#%%\n"
    }
   }
  },
  {
   "cell_type": "markdown",
   "source": [
    "Entropy"
   ],
   "metadata": {
    "collapsed": false
   }
  },
  {
   "cell_type": "code",
   "execution_count": 203,
   "outputs": [],
   "source": [
    "from scipy.stats import entropy"
   ],
   "metadata": {
    "collapsed": false,
    "pycharm": {
     "name": "#%%\n"
    }
   }
  },
  {
   "cell_type": "code",
   "execution_count": 204,
   "outputs": [],
   "source": [
    "list_of_params = list(critic.parameters())\n",
    "list_of_target_params = list(target_critic.parameters())"
   ],
   "metadata": {
    "collapsed": false,
    "pycharm": {
     "name": "#%%\n"
    }
   }
  },
  {
   "cell_type": "code",
   "execution_count": 205,
   "outputs": [
    {
     "data": {
      "text/plain": "inf"
     },
     "execution_count": 205,
     "metadata": {},
     "output_type": "execute_result"
    }
   ],
   "source": [
    "entropy(list_of_params[0][0].detach().numpy(), list_of_target_params[0][0].detach().numpy())"
   ],
   "metadata": {
    "collapsed": false,
    "pycharm": {
     "name": "#%%\n"
    }
   }
  },
  {
   "cell_type": "code",
   "execution_count": 206,
   "outputs": [
    {
     "data": {
      "text/plain": "array([0.15159181, 0.1180577 , 0.09163395, 0.15329704, 0.11166577,\n       0.16388927, 0.12194274, 0.08792175], dtype=float32)"
     },
     "execution_count": 206,
     "metadata": {},
     "output_type": "execute_result"
    }
   ],
   "source": [
    "a = list_of_params[0][0].softmax(dim=0).detach().numpy()\n",
    "a"
   ],
   "metadata": {
    "collapsed": false,
    "pycharm": {
     "name": "#%%\n"
    }
   }
  },
  {
   "cell_type": "code",
   "execution_count": 207,
   "outputs": [
    {
     "data": {
      "text/plain": "array([0.13697003, 0.10682967, 0.15041651, 0.1320622 , 0.13268153,\n       0.10633211, 0.10866807, 0.12603989], dtype=float32)"
     },
     "execution_count": 207,
     "metadata": {},
     "output_type": "execute_result"
    }
   ],
   "source": [
    "b = list_of_target_params[0][0].softmax(dim=0).detach().numpy()\n",
    "b"
   ],
   "metadata": {
    "collapsed": false,
    "pycharm": {
     "name": "#%%\n"
    }
   }
  },
  {
   "cell_type": "code",
   "execution_count": 208,
   "outputs": [],
   "source": [
    "from math import log"
   ],
   "metadata": {
    "collapsed": false,
    "pycharm": {
     "name": "#%%\n"
    }
   }
  },
  {
   "cell_type": "code",
   "execution_count": 209,
   "outputs": [],
   "source": [
    "\"\"\"\n",
    "# H(P, Q) = H(P) + KL(P || Q)\n",
    "# Where H(P, Q) is the cross-entropy of Q from P,\n",
    "# H(P) is the entropy of P and\n",
    "# KL(P || Q) is the divergence of Q from P.\n",
    "\"\"\"\n",
    "\n",
    "# calculate entropy H(P)\n",
    "def entropy(p):\n",
    "\treturn -sum([p[i] * log(p[i]) for i in range(len(p))])\n",
    "# calculate cross entropy\n",
    "def cross_entropy(p, q):\n",
    "\treturn -sum(pp * log(qq) for pp, qq in zip(p, q))\n",
    "# calculate the kl divergence KL(P || Q)\n",
    "def kl_divergence(p, q):\n",
    "\treturn sum(p[i] * log(p[i]/q[i]) for i in range(len(p)))"
   ],
   "metadata": {
    "collapsed": false,
    "pycharm": {
     "name": "#%%\n"
    }
   }
  },
  {
   "cell_type": "code",
   "execution_count": 210,
   "outputs": [
    {
     "data": {
      "text/plain": "0.03865296524622788"
     },
     "execution_count": 210,
     "metadata": {},
     "output_type": "execute_result"
    }
   ],
   "source": [
    "kl_divergence(a,b)"
   ],
   "metadata": {
    "collapsed": false,
    "pycharm": {
     "name": "#%%\n"
    }
   }
  },
  {
   "cell_type": "code",
   "execution_count": 215,
   "outputs": [
    {
     "data": {
      "text/plain": "2.094931482974282"
     },
     "execution_count": 215,
     "metadata": {},
     "output_type": "execute_result"
    }
   ],
   "source": [
    "cross_entropy(a,b)"
   ],
   "metadata": {
    "collapsed": false,
    "pycharm": {
     "name": "#%%\n"
    }
   }
  },
  {
   "cell_type": "code",
   "execution_count": 216,
   "outputs": [
    {
     "data": {
      "text/plain": "2.056278520277411"
     },
     "execution_count": 216,
     "metadata": {},
     "output_type": "execute_result"
    }
   ],
   "source": [
    "entropy(a)"
   ],
   "metadata": {
    "collapsed": false,
    "pycharm": {
     "name": "#%%\n"
    }
   }
  },
  {
   "cell_type": "code",
   "execution_count": 217,
   "outputs": [
    {
     "data": {
      "text/plain": "2.094931485523639"
     },
     "execution_count": 217,
     "metadata": {},
     "output_type": "execute_result"
    }
   ],
   "source": [
    "entropy(a) + kl_divergence(a,b)\n"
   ],
   "metadata": {
    "collapsed": false,
    "pycharm": {
     "name": "#%%\n"
    }
   }
  }
 ],
 "metadata": {
  "kernelspec": {
   "display_name": "Python 3",
   "language": "python",
   "name": "python3"
  },
  "language_info": {
   "codemirror_mode": {
    "name": "ipython",
    "version": 2
   },
   "file_extension": ".py",
   "mimetype": "text/x-python",
   "name": "python",
   "nbconvert_exporter": "python",
   "pygments_lexer": "ipython2",
   "version": "2.7.6"
  }
 },
 "nbformat": 4,
 "nbformat_minor": 0
}